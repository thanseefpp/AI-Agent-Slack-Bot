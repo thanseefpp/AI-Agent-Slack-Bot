{
 "cells": [
  {
   "cell_type": "code",
   "execution_count": 12,
   "metadata": {},
   "outputs": [],
   "source": [
    "import os\n",
    "from slack import WebClient\n",
    "from slack.errors import SlackApiError\n",
    "\n",
    "client = WebClient(token=os.environ['SLACK_API_TOKEN'])\n",
    "\n",
    "try:\n",
    "    message = \"this is a sample text\"\n",
    "    response = client.chat_postMessage(\n",
    "        channel='#ai-bot-response',\n",
    "        text=message)\n",
    "    assert response[\"message\"][\"text\"] == message\n",
    "except SlackApiError as e:\n",
    "    # You will get a SlackApiError if \"ok\" is False\n",
    "    assert e.response[\"ok\"] is False\n",
    "    assert e.response[\"error\"]  # str like 'invalid_auth', 'channel_not_found'\n",
    "    print(f\"Got an error: {e.response['error']}\")"
   ]
  }
 ],
 "metadata": {
  "kernelspec": {
   "display_name": "ai-agent-env",
   "language": "python",
   "name": "python3"
  },
  "language_info": {
   "codemirror_mode": {
    "name": "ipython",
    "version": 3
   },
   "file_extension": ".py",
   "mimetype": "text/x-python",
   "name": "python",
   "nbconvert_exporter": "python",
   "pygments_lexer": "ipython3",
   "version": "3.11.8"
  }
 },
 "nbformat": 4,
 "nbformat_minor": 2
}
